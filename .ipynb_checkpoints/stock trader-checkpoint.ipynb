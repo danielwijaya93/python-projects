{
 "cells": [
  {
   "cell_type": "code",
   "execution_count": null,
   "metadata": {
    "ExecuteTime": {
     "start_time": "2020-11-02T16:10:43.486Z"
    }
   },
   "outputs": [],
   "source": [
    "import yfinance as yf\n",
    "import pandas as pd\n",
    "import datetime as dt\n",
    "import numpy as np\n",
    "import matplotlib.pyplot as plt\n",
    "plt.style.use(\"fivethirtyeight\")"
   ]
  },
  {
   "cell_type": "code",
   "execution_count": null,
   "metadata": {
    "ExecuteTime": {
     "start_time": "2020-11-02T16:10:44.940Z"
    }
   },
   "outputs": [],
   "source": [
    "def stock_algo(stock, start, end, short_sma, long_sma):\n",
    "    df = yf.download(stock,start, end, interval='1d')\n",
    "    \n",
    "    SMAs=[short_sma, long_sma]\n",
    "    for i in SMAs:\n",
    "        df[\"SMA_\"+str(i)]= df.iloc[:,4].rolling(window=i).mean()\n",
    "    \n",
    "    trends = []\n",
    "    \n",
    "    for i in df.index:\n",
    "        SMA_short=df[\"SMA_\"+str(short_sma)]\n",
    "        SMA_long =df[\"SMA_\"+str(long_sma)]\n",
    "        close=df['Adj Close'][i]\n",
    "\n",
    "        if(SMA_short[i] > SMA_long[i]):\n",
    "            trend = 'up'\n",
    "            trends.append(trend)\n",
    "        else:\n",
    "            trend = 'down'\n",
    "            trends.append(trend)\n",
    "\n",
    "    df[\"trends\"] = trends\n",
    "\n",
    "    df[\"prev_trend\"] = df.trends.shift(1)\n",
    "    \n",
    "    flags = []\n",
    "    for i in df.index:\n",
    "        trends = df[\"trends\"]\n",
    "        prev_trend = df[\"prev_trend\"]\n",
    "\n",
    "        if (trends[i] != prev_trend[i]):\n",
    "            flag = 'change'\n",
    "            flags.append(flag)\n",
    "        else:\n",
    "            flag = 'same'\n",
    "            flags.append(flag)\n",
    "\n",
    "    df[\"flags\"] = flags\n",
    "    \n",
    "    buy_price = []\n",
    "    sell_price = []\n",
    "\n",
    "    for i in df.index:\n",
    "        t = df[\"trends\"]\n",
    "        f = df[\"flags\"]\n",
    "        close = df[\"Adj Close\"]\n",
    "\n",
    "        if (t[i] == \"up\" and f[i] == \"change\"):\n",
    "            buy_price.append(close[i])\n",
    "            sell_price.append(np.nan)\n",
    "        elif (f[i] == \"same\"):\n",
    "            buy_price.append(np.nan)\n",
    "            sell_price.append(np.nan)\n",
    "        else:\n",
    "            buy_price.append(np.nan)\n",
    "            sell_price.append(close[i])\n",
    "\n",
    "    df[\"Buy Price\"] = buy_price\n",
    "    df[\"Sell Price\"] = sell_price\n",
    "    \n",
    "    df = df.drop(columns=[\"Open\", \"High\", \"Low\", \"Close\", \"Volume\", \"trends\", \"prev_trend\", \"flags\"])\n",
    "    \n",
    "    return df"
   ]
  },
  {
   "cell_type": "code",
   "execution_count": null,
   "metadata": {
    "ExecuteTime": {
     "start_time": "2020-11-02T16:10:53.730Z"
    }
   },
   "outputs": [],
   "source": [
    "stock = 'AAPL'\n",
    "start = '2016-01-01'\n",
    "end = dt.datetime.now()\n",
    "short_sma = 20\n",
    "long_sma = 50\n",
    "\n",
    "df = stock_algo(stock,start,end, short_sma, long_sma)\n",
    "\n",
    "df.head()"
   ]
  },
  {
   "cell_type": "code",
   "execution_count": null,
   "metadata": {
    "ExecuteTime": {
     "start_time": "2020-11-02T16:10:56.472Z"
    }
   },
   "outputs": [],
   "source": [
    "plt.figure(figsize=(12.6, 4.6))\n",
    "plt.plot(df[\"Adj Close\"], label = \"AAPL\", alpha = 0.35)\n",
    "plt.plot(df[\"SMA_20\"], label = \"SMA_20\", alpha = 0.35)\n",
    "plt.plot(df[\"SMA_50\"], label = \"SMA_50\", alpha = 0.35)\n",
    "plt.scatter(df.index, df[\"Buy Price\"], label = \"Buy\", marker = \"^\", color = \"green\")\n",
    "plt.scatter(df.index, df[\"Sell Price\"], label = \"Sell\", marker = \"v\", color = \"red\")\n",
    "plt.title(\"Apple Adj Close Price Buy & Sell Signals\")\n",
    "plt.xlabel(\"2016 - YTD\")\n",
    "plt.ylabel(\"Adj Close Price USD\")\n",
    "plt.legend(loc = \"upper left\")\n",
    "plt.show()"
   ]
  }
 ],
 "metadata": {
  "kernelspec": {
   "display_name": "Python 3.7 (XPython)",
   "language": "python",
   "name": "xpython"
  },
  "language_info": {
   "file_extension": ".py",
   "mimetype": "text/x-python",
   "name": "python",
   "version": "3.7.7"
  },
  "toc": {
   "base_numbering": 1,
   "nav_menu": {},
   "number_sections": false,
   "sideBar": true,
   "skip_h1_title": false,
   "title_cell": "Table of Contents",
   "title_sidebar": "Contents",
   "toc_cell": false,
   "toc_position": {},
   "toc_section_display": true,
   "toc_window_display": false
  }
 },
 "nbformat": 4,
 "nbformat_minor": 4
}
